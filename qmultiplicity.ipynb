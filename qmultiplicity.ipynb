{
 "cells": [
  {
   "cell_type": "code",
   "execution_count": 80,
   "id": "b2dc2a82-ddbb-42fa-ab9c-f10796176eae",
   "metadata": {
    "tags": []
   },
   "outputs": [],
   "source": [
    "import __future__\n",
    "from Weight import Weight\n",
    "from PartitionTree import PartitionTree\n",
    "from sage.all import *\n",
    "\n",
    "def Eval(string):\n",
    "    return eval(compile(str(string), '<string>', 'eval', __future__.division.compiler_flag))\n",
    "\n",
    "def convertWeightParameters(name, weight, simple):\n",
    "    weyl_group = WeylGroup(name, prefix = \"s\")\n",
    "    standard_to_simple = getBasisChange(name)\n",
    "    fund_to_simple = getFundamentalToSimple(name)\n",
    "\n",
    "    while not len(weight) == standard_to_simple.ncols():\n",
    "\n",
    "        weight.append(0)\n",
    "    if not simple:\n",
    "        print(weight,(fund_to_simple * vector(weight), standard_to_simple.inverse() * (fund_to_simple * vector(weight))))\n",
    "        weight = standard_to_simple.inverse() * (fund_to_simple * vector(weight))\n",
    "        \n",
    "    else:\n",
    "        weight = standard_to_simple.inverse() * vector(weight)\n",
    "\n",
    "    return weyl_group.domain()(list(eval(str(weight))))\n",
    "\n",
    "def changeFundToSimple(name, weight):\n",
    "    basis_change = getFundamentalToSimple(name)\n",
    "    weight = list(weight)\n",
    "    while not len(weight) == basis_change.ncols():\n",
    "            weight.append(0)\n",
    "    return basis_change * vector(weight)\n",
    "\n",
    "def getFundamentalToSimple(name):\n",
    "    simples = RootSystem(name).ambient_space().simple_roots()\n",
    "    simple_basis = ([Eval((str(x).replace(\"(\", \"[\").replace(\")\", \"]\"))) for x in simples])\n",
    "    for i in range(len(simple_basis), len(simple_basis[0])):\n",
    "        simple_basis.append([1 if j==i else 0 for j in range(0, len(simple_basis[0]))])\n",
    "\n",
    "    fundamentals = RootSystem(name).ambient_space().fundamental_weights()\n",
    "    fund_basis = ([Eval((str(x).replace(\"(\", \"[\").replace(\")\", \"]\"))) for x in fundamentals])\n",
    "    for i in range(len(fund_basis), len(fund_basis[0])):\n",
    "        fund_basis.append([1 if j==i else 0 for j in range(0, len(fund_basis[0]))])\n",
    "\n",
    "    return matrix(simple_basis).transpose().inverse() * matrix(fund_basis).transpose()\n",
    "\n",
    "def getBasisChange(name):\n",
    "    simples = RootSystem(name).ambient_space().simple_roots()\n",
    "    basis_change = ([Eval((str(x).replace(\"(\", \"[\").replace(\")\", \"]\"))) for x in simples])\n",
    "    for i in range(len(basis_change), len(basis_change[0])):\n",
    "        basis_change.append([1 if j==i else 0 for j in range(0, len(basis_change[0]))])\n",
    "    return matrix(basis_change).transpose().inverse()\n",
    "\n",
    "\n",
    "def findAltSet(name, lamb = None, mu = None, simple = True):\n",
    "    # initialize constants and vector space for the lie algebra\n",
    "    lie_algebra = RootSystem(name).ambient_space()\n",
    "    weyl_group = WeylGroup(name, prefix = \"s\")\n",
    "    simples = weyl_group.gens()\n",
    "\n",
    "    altset = [weyl_group.one()]\n",
    "\n",
    "    # used to change the basis from the standard basis of R^n to simple roots\n",
    "    basis_change = getBasisChange(name)\n",
    "\n",
    "    # if lambda is not specified, the highest root is used\n",
    "    if lamb == None:\n",
    "        lamb = lie_algebra.highest_root()\n",
    "    elif type(lamb) is list:\n",
    "        lamb = convertWeightParameters(name, lamb, simple)\n",
    "\n",
    "    # if mu is not specified, 0 vector is used\n",
    "    if mu == None:\n",
    "        mu = weyl_group.domain()([0 for i in range(0, len(lie_algebra.simple_roots()))])\n",
    "    elif type(mu) is list:\n",
    "        mu  = convertWeightParameters(name, mu, simple)\n",
    "\n",
    "    # check to see if the alt set is the empty set\n",
    "    init = (lamb + mu)\n",
    "    init = basis_change * vector(list(Eval(init)))\n",
    "    init = Weight(init)\n",
    "\n",
    "    if init.isNegative():\n",
    "    \n",
    "        return []\n",
    "\n",
    "    rho = lie_algebra.rho()\n",
    "    length = len(altset)\n",
    "    i=0\n",
    "    while i < length:\n",
    "        for simple in simples:\n",
    "            if ((altset[i] == simple)or (altset[i] == altset[i] * simple)):\n",
    "                continue\n",
    "            res = (altset[i]*simple).action(lamb + rho) - (rho + mu)\n",
    "            res = basis_change * vector(list(Eval(res)))\n",
    "            res = Weight(res)\n",
    "\n",
    "            if not (res.isNegative() or res.hasFraction()):\n",
    "                if not (altset[i]*simple in altset):\n",
    "                    altset.append(altset[i]*simple)\n",
    "                    length += 1\n",
    "        i+=1\n",
    "\n",
    "    return altset"
   ]
  },
  {
   "cell_type": "code",
   "execution_count": 81,
   "id": "3e072e39-2b49-4a69-9579-f42ae9037a71",
   "metadata": {
    "tags": []
   },
   "outputs": [],
   "source": [
    "def geometricSumForPartition(positive_root, translations, q_analog):\n",
    "    x = 1\n",
    "    for i in range(0, len(positive_root)):\n",
    "        for j in range(0, positive_root[i]):\n",
    "            x = x * translations[\"A\" + str(i+1)]\n",
    "    return 1/(1 - x) if not q_analog else 1/(1 -translations['q']*x)\n",
    "\n",
    "\n",
    "def calculatePartition(name, weight, positive_roots, translations, q_analog ):\n",
    "    root_system = RootSystem(name).ambient_space()\n",
    "#   여기를 바꿔야됨\n",
    "#   termsForSum을 for문으로 바꾸고 positive_roots 조건에 따라 translations를 바꿔서 넣어주는 방향\n",
    "    termsForSum = [geometricSumForPartition(list(x), translations, q_analog) for x in positive_roots]\n",
    "    answer = 1\n",
    "    for x in termsForSum:\n",
    "        answer *= x\n",
    "\n",
    "    for i in range(0, len(weight)):\n",
    "        answer = answer.series(translations[\"A\" + str(i+1)], weight[i] + 1).truncate()\n",
    "        answer = answer.coefficient(translations[\"A\" + str(i+1)], weight[i])\n",
    "\n",
    "    answer = answer.expand()\n",
    "    return answer"
   ]
  },
  {
   "cell_type": "code",
   "execution_count": 82,
   "id": "a14f130a",
   "metadata": {
    "tags": []
   },
   "outputs": [],
   "source": [
    "def calculateMultiplicity(name, lamb = None, mu = None):\n",
    "    mult, q_analog, simple = 0 , True, False\n",
    "    lie_algebra = RootSystem(name).ambient_space()\n",
    "    weyl_group = WeylGroup(name, prefix = \"s\")\n",
    "    # used to change the basis from the standard basis of R^n to simple roots\n",
    "    standard_to_simple = getBasisChange(name)\n",
    "    fund_to_simple = getFundamentalToSimple(name)\n",
    "\n",
    "    positive_roots = [vector(list(Eval(x))) for x in RootSystem(name).ambient_space().positive_roots()]\n",
    "    positive_roots = [standard_to_simple * x for x in positive_roots]\n",
    "\n",
    "    lamb = convertWeightParameters(name, lamb, simple)\n",
    "    mu = convertWeightParameters(name, mu, simple)\n",
    "    rho = lie_algebra.rho()\n",
    "    altset = findAltSet(name, lamb, mu)\n",
    "\n",
    "    s = 'q, A1'\n",
    "    for i in range(1, int(name[1:])):\n",
    "        s += ', A' + str(i + 1)\n",
    "    variables = var(s)\n",
    "    translations = { 'q' : q }         \n",
    "    for i in range(0, int(name[1:])):\n",
    "        translations[\"A\" + str(i+1)] = eval(\"A\" + str(i+1))\n",
    "        \n",
    "    for elm in altset:\n",
    "        # expression in partition function\n",
    "        res = elm.action(lamb + rho) - (mu + rho)\n",
    "\n",
    "        #change basis from standard basis to simple roots\n",
    "        res = vector(list(Eval(res)))\n",
    "        res = standard_to_simple * res\n",
    "\n",
    "        term = calculatePartition(name, list(res), positive_roots, translations = translations, q_analog=q_analog)\n",
    "\n",
    "        term *= (-1)**elm.length()\n",
    "        mult += term\n",
    "\n",
    "    return mult    "
   ]
  },
  {
   "cell_type": "code",
   "execution_count": 83,
   "id": "e02ed179-cead-4d10-a61d-1725ecdbfc81",
   "metadata": {},
   "outputs": [],
   "source": [
    "def customMultiplicity(name, lamb = None, mu = None):\n",
    "    mult, q_analog, simple = 0 , True, False\n",
    "    lie_algebra = RootSystem(name).ambient_space()\n",
    "    weyl_group = WeylGroup(name, prefix = \"s\")\n",
    "    # used to change the basis from the standard basis of R^n to simple roots\n",
    "    standard_to_simple = getBasisChange(name)\n",
    "    fund_to_simple = getFundamentalToSimple(name)\n",
    "\n",
    "    positive_roots = [vector(list(Eval(x))) for x in RootSystem(name).ambient_space().positive_roots()]   \n",
    "    positive_roots = [standard_to_simple * x for x in positive_roots]\n",
    "\n",
    "    lamb = convertWeightParameters(name, lamb, simple)\n",
    "    mu = convertWeightParameters(name, mu, simple)\n",
    "    rho = lie_algebra.rho()\n",
    "    altset = findAltSet(name, lamb, mu)\n",
    "\n",
    "    s = 'q, A1'\n",
    "    for i in range(1, int(name[1:])):\n",
    "        s += ', A' + str(i + 1)\n",
    "    variables = var(s)\n",
    "    translations = { 'q' : q }         \n",
    "    for i in range(0, int(name[1:])):\n",
    "        translations[\"A\" + str(i+1)] = eval(\"A\" + str(i+1))\n",
    "        \n",
    "    for elm in altset:\n",
    "        # expression in partition function\n",
    "        res = elm.action(lamb + rho) - (mu + rho)\n",
    "\n",
    "        #change basis from standard basis to simple roots\n",
    "        res = vector(list(Eval(res)))\n",
    "        res = standard_to_simple * res\n",
    "\n",
    "        term = customPartition(name, list(res), positive_roots, translations = translations)\n",
    "\n",
    "        term *= (-1)**elm.length()\n",
    "        mult += term\n",
    "\n",
    "    return mult    "
   ]
  },
  {
   "cell_type": "code",
   "execution_count": 84,
   "id": "fc5d379b-cff4-4221-b9ee-da138e600499",
   "metadata": {
    "tags": []
   },
   "outputs": [],
   "source": [
    "def customPartition(name, weight, positive_roots, translations):\n",
    "    q_analog = True\n",
    "    root_system = RootSystem(name).ambient_space()\n",
    "    n=binomial(int(name[1:]),2)\n",
    "    termsForSum=[]\n",
    "    for i in range(len(positive_roots)):\n",
    "        if i in range(n):\n",
    "            translations['q']=q\n",
    "        elif i in range(n,2*n):\n",
    "            translations['q']=q\n",
    "        else:\n",
    "            translations['q']=q\n",
    "        termsForSum += [geometricSumForPartition(list(positive_roots[i]),translations,q_analog)]\n",
    "    answer = 1\n",
    "    for x in termsForSum:\n",
    "        answer *= x\n",
    "\n",
    "    for i in range(0, len(weight)):\n",
    "        answer = answer.series(translations[\"A\" + str(i+1)], weight[i] + 1).truncate()\n",
    "        answer = answer.coefficient(translations[\"A\" + str(i+1)], weight[i])\n",
    "\n",
    "    answer = answer.expand()\n",
    "    return answer"
   ]
  },
  {
   "cell_type": "code",
   "execution_count": 87,
   "id": "cfec9ecb",
   "metadata": {
    "scrolled": true,
    "tags": []
   },
   "outputs": [
    {
     "name": "stdout",
     "output_type": "stream",
     "text": [
      "[0, 0, 0, 4] ((4, 8, 12, 8), (4, 4, 4, 4))\n",
      "[0, 0, 0, 3] ((3, 6, 9, 6), (3, 3, 3, 3))\n"
     ]
    },
    {
     "data": {
      "text/plain": [
       "q^8 + q^6 + q^4"
      ]
     },
     "execution_count": 87,
     "metadata": {},
     "output_type": "execute_result"
    }
   ],
   "source": [
    "customMultiplicity(\"C4\",[0,0,0,4],[0,0,0,3])"
   ]
  },
  {
   "cell_type": "code",
   "execution_count": 148,
   "id": "88977050",
   "metadata": {
    "tags": []
   },
   "outputs": [
    {
     "data": {
      "text/plain": [
       "[(1, 1), (1, -1), (2, 0), (0, 2)]"
      ]
     },
     "execution_count": 148,
     "metadata": {},
     "output_type": "execute_result"
    }
   ],
   "source": [
    "positive_roots = [vector(list(Eval(x))) for x in RootSystem(\"C2\").ambient_space().positive_roots()]\n",
    "positive_roots"
   ]
  },
  {
   "cell_type": "code",
   "execution_count": 67,
   "id": "d4c7553e",
   "metadata": {
    "tags": []
   },
   "outputs": [
    {
     "name": "stdout",
     "output_type": "stream",
     "text": [
      "[  1   0]\n",
      "[1/2 1/2]\n",
      "[  1   1]\n",
      "[1/2   1]\n",
      "[(1, 1), (1, -1), (2, 0), (0, 2)]\n",
      "[(1, 1), (1, 0), (2, 1), (0, 1)]\n",
      "<class 'sage.rings.rational.Rational'>\n"
     ]
    },
    {
     "data": {
      "text/plain": [
       "(0, 2)"
      ]
     },
     "execution_count": 67,
     "metadata": {},
     "output_type": "execute_result"
    }
   ],
   "source": [
    "name=\"C2\"\n",
    "\n",
    "standard_to_simple = getBasisChange(name)\n",
    "print(standard_to_simple)\n",
    "\n",
    "fund_to_simple = getFundamentalToSimple(name)\n",
    "print(fund_to_simple)\n",
    "\n",
    "positive_roots1 = [vector(list(Eval(x))) for x in RootSystem(name).ambient_space().positive_roots()]\n",
    "print(positive_roots1)\n",
    "\n",
    "positive_roots2 = [standard_to_simple * x for x in positive_roots1]\n",
    "print(positive_roots2)\n",
    "\n",
    "standard_to_simple * positive_roots1[0]\n",
    "print(type(RootSystem(name).ambient_space().positive_roots()[1][1]))\n",
    "RootSystem(name).ambient_space().positive_roots()[-1]"
   ]
  },
  {
   "cell_type": "code",
   "execution_count": null,
   "id": "16ab0b4f-7806-4b26-bc86-74efba6f58f9",
   "metadata": {},
   "outputs": [],
   "source": [
    "123123123"
   ]
  }
 ],
 "metadata": {
  "kernelspec": {
   "display_name": "SageMath 9.7",
   "language": "sage",
   "name": "sagemath"
  },
  "language_info": {
   "codemirror_mode": {
    "name": "ipython",
    "version": 3
   },
   "file_extension": ".py",
   "mimetype": "text/x-python",
   "name": "python",
   "nbconvert_exporter": "python",
   "pygments_lexer": "ipython3",
   "version": "3.10.6"
  }
 },
 "nbformat": 4,
 "nbformat_minor": 5
}
